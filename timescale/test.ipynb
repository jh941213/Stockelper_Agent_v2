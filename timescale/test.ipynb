{
 "cells": [
  {
   "cell_type": "code",
   "execution_count": 6,
   "metadata": {},
   "outputs": [
    {
     "name": "stderr",
     "output_type": "stream",
     "text": [
      "[*********************100%***********************]  8 of 8 completed"
     ]
    },
    {
     "name": "stdout",
     "output_type": "stream",
     "text": [
      "데이터 수집 및 CSV 저장 완료.\n"
     ]
    },
    {
     "name": "stderr",
     "output_type": "stream",
     "text": [
      "\n"
     ]
    }
   ],
   "source": [
    "import yfinance as yf\n",
    "import pandas as pd\n",
    "from datetime import datetime, timedelta\n",
    "\n",
    "# 수집할 종목 리스트 (M7 빅테크 예시)\n",
    "tickers = [\"AAPL\", \"MSFT\", \"AMZN\", \"GOOGL\", \"META\", \"NFLX\", \"TSLA\", \"NVDA\"]\n",
    "\n",
    "# 오늘 날짜를 기준으로 2년 전\n",
    "end_date = datetime(2024, 12, 5)\n",
    "start_date = end_date - timedelta(days=365*5)\n",
    "\n",
    "# 야후 파이낸스에서 데이터 다운로드 (일봉)\n",
    "# interval='1d'로 일단위 데이터 수집\n",
    "data = yf.download(\n",
    "    tickers=tickers,\n",
    "    start=start_date.strftime('%Y-%m-%d'),\n",
    "    end=end_date.strftime('%Y-%m-%d'),\n",
    "    interval='1d',\n",
    "    group_by='ticker'\n",
    ")\n",
    "\n",
    "# 데이터 형태는 MultiIndex 형태로 (티커, Column) 구조일 수 있으니, \n",
    "# 이를 처리하기 위한 예시 코드\n",
    "# 각 티커별로 CSV 저장, 또는 하나로 합쳐서 저장할 수 있음.\n",
    "\n",
    "# 각 티커별로 데이터를 가공하여 변동률 등의 컬럼 추가\n",
    "for ticker in tickers:\n",
    "    # 각 티커별 데이터 추출\n",
    "    df = data[ticker].copy()\n",
    "    # 종가 기준 전일대비 변동률(return) 컬럼 추가\n",
    "    df['Return'] = df['Close'].pct_change()\n",
    "    # 인덱스 타입을 일자(date)로 명시적으로 변환\n",
    "    df.index = pd.to_datetime(df.index)\n",
    "    # 필요한 컬럼만 선택 (Open, High, Low, Close, Volume, Return)\n",
    "    df = df[['Open', 'High', 'Low', 'Close', 'Volume', 'Return']]\n",
    "    # CSV로 저장 (티커명으로 된 파일)\n",
    "    df.to_csv(f\"{ticker}_5years_daily.csv\", index_label='Date')\n",
    "\n",
    "print(\"데이터 수집 및 CSV 저장 완료.\")\n"
   ]
  }
 ],
 "metadata": {
  "kernelspec": {
   "display_name": "kospi",
   "language": "python",
   "name": "python3"
  },
  "language_info": {
   "codemirror_mode": {
    "name": "ipython",
    "version": 3
   },
   "file_extension": ".py",
   "mimetype": "text/x-python",
   "name": "python",
   "nbconvert_exporter": "python",
   "pygments_lexer": "ipython3",
   "version": "3.11.9"
  }
 },
 "nbformat": 4,
 "nbformat_minor": 2
}
